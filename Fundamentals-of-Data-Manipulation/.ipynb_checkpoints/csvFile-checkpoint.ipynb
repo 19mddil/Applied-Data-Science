{
 "cells": [
  {
   "cell_type": "markdown",
   "metadata": {},
   "source": [
    "## Data Files and Summmary statistics"
   ]
  },
  {
   "cell_type": "code",
   "execution_count": 3,
   "metadata": {},
   "outputs": [
    {
     "data": {
      "text/plain": [
       "[{'Date': '2012-01-03',\n",
       "  'Open': '26.549999',\n",
       "  'High': '26.959999',\n",
       "  'Low': '26.389999',\n",
       "  'Close': '26.770000',\n",
       "  'Adj Close': '22.312138',\n",
       "  'Volume': '64731500'},\n",
       " {'Date': '2012-01-04',\n",
       "  'Open': '26.820000',\n",
       "  'High': '27.469999',\n",
       "  'Low': '26.780001',\n",
       "  'Close': '27.400000',\n",
       "  'Adj Close': '22.837227',\n",
       "  'Volume': '80516100'},\n",
       " {'Date': '2012-01-05',\n",
       "  'Open': '27.379999',\n",
       "  'High': '27.730000',\n",
       "  'Low': '27.290001',\n",
       "  'Close': '27.680000',\n",
       "  'Adj Close': '23.070601',\n",
       "  'Volume': '56081400'}]"
      ]
     },
     "execution_count": 3,
     "metadata": {},
     "output_type": "execute_result"
    }
   ],
   "source": [
    "import csv\n",
    "\n",
    "%precision 2\n",
    "\n",
    "with open('mpg.csv') as csvfile:\n",
    "    mpg = list(csv.DictReader(csvfile))\n",
    "    \n",
    "mpg[:3]"
   ]
  },
  {
   "cell_type": "code",
   "execution_count": 4,
   "metadata": {},
   "outputs": [
    {
     "data": {
      "text/plain": [
       "1760"
      ]
     },
     "execution_count": 4,
     "metadata": {},
     "output_type": "execute_result"
    }
   ],
   "source": [
    "len(mpg)"
   ]
  },
  {
   "cell_type": "code",
   "execution_count": 6,
   "metadata": {},
   "outputs": [
    {
     "data": {
      "text/plain": [
       "dict_keys(['Date', 'Open', 'High', 'Low', 'Close', 'Adj Close', 'Volume'])"
      ]
     },
     "execution_count": 6,
     "metadata": {},
     "output_type": "execute_result"
    }
   ],
   "source": [
    "mpg[0].keys()"
   ]
  },
  {
   "cell_type": "code",
   "execution_count": 11,
   "metadata": {},
   "outputs": [
    {
     "data": {
      "text/plain": [
       "54.23"
      ]
     },
     "execution_count": 11,
     "metadata": {},
     "output_type": "execute_result"
    }
   ],
   "source": [
    "sum([float(d['Open']) for d in mpg])/len(mpg)"
   ]
  },
  {
   "cell_type": "code",
   "execution_count": null,
   "metadata": {},
   "outputs": [],
   "source": []
  }
 ],
 "metadata": {
  "kernelspec": {
   "display_name": "Python 3",
   "language": "python",
   "name": "python3"
  },
  "language_info": {
   "codemirror_mode": {
    "name": "ipython",
    "version": 3
   },
   "file_extension": ".py",
   "mimetype": "text/x-python",
   "name": "python",
   "nbconvert_exporter": "python",
   "pygments_lexer": "ipython3",
   "version": "3.8.3"
  }
 },
 "nbformat": 4,
 "nbformat_minor": 4
}
