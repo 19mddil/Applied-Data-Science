{
 "cells": [
  {
   "cell_type": "code",
   "execution_count": 1,
   "metadata": {},
   "outputs": [],
   "source": [
    "import pandas as pd\n",
    "\n",
    "sdata = {'Ohio': 35000, 'Texas': 71000, 'Oregon': 16000, 'Utah': 5000}\n",
    "obj1 = pd.Series(sdata)\n",
    "states = ['California', 'Ohio', 'Oregon', 'Texas']\n",
    "obj2 = pd.Series(sdata, index=states)\n",
    "obj3 = pd.isnull(obj2)"
   ]
  },
  {
   "cell_type": "code",
   "execution_count": 2,
   "metadata": {},
   "outputs": [
    {
     "data": {
      "text/plain": [
       "California     True\n",
       "Ohio          False\n",
       "Oregon        False\n",
       "Texas         False\n",
       "dtype: bool"
      ]
     },
     "execution_count": 2,
     "metadata": {},
     "output_type": "execute_result"
    }
   ],
   "source": [
    "obj3"
   ]
  },
  {
   "cell_type": "code",
   "execution_count": 3,
   "metadata": {},
   "outputs": [
    {
     "data": {
      "text/plain": [
       "California        NaN\n",
       "Ohio          35000.0\n",
       "Oregon        16000.0\n",
       "Texas         71000.0\n",
       "dtype: float64"
      ]
     },
     "execution_count": 3,
     "metadata": {},
     "output_type": "execute_result"
    }
   ],
   "source": [
    "obj2"
   ]
  },
  {
   "cell_type": "code",
   "execution_count": 4,
   "metadata": {},
   "outputs": [
    {
     "data": {
      "text/plain": [
       "Ohio      35000\n",
       "Texas     71000\n",
       "Oregon    16000\n",
       "Utah       5000\n",
       "dtype: int64"
      ]
     },
     "execution_count": 4,
     "metadata": {},
     "output_type": "execute_result"
    }
   ],
   "source": [
    "obj1"
   ]
  },
  {
   "cell_type": "code",
   "execution_count": 5,
   "metadata": {},
   "outputs": [
    {
     "data": {
      "text/plain": [
       "False"
      ]
     },
     "execution_count": 5,
     "metadata": {},
     "output_type": "execute_result"
    }
   ],
   "source": [
    "obj2['California'] == None"
   ]
  },
  {
   "cell_type": "code",
   "execution_count": 6,
   "metadata": {},
   "outputs": [],
   "source": [
    "import pandas as pd\n",
    "d = {\n",
    "    '1': 'Alice',\n",
    "    '2': 'Bob',\n",
    "    '3': 'Rita',\n",
    "    '4': 'Molly',\n",
    "    '5': 'Ryan'\n",
    "}\n",
    "S = pd.Series(d)"
   ]
  },
  {
   "cell_type": "code",
   "execution_count": 7,
   "metadata": {},
   "outputs": [
    {
     "data": {
      "text/plain": [
       "1    Alice\n",
       "2      Bob\n",
       "3     Rita\n",
       "4    Molly\n",
       "5     Ryan\n",
       "dtype: object"
      ]
     },
     "execution_count": 7,
     "metadata": {},
     "output_type": "execute_result"
    }
   ],
   "source": [
    "S"
   ]
  },
  {
   "cell_type": "code",
   "execution_count": 11,
   "metadata": {},
   "outputs": [
    {
     "data": {
      "text/plain": [
       "1    Alice\n",
       "2      Bob\n",
       "3     Rita\n",
       "dtype: object"
      ]
     },
     "execution_count": 11,
     "metadata": {},
     "output_type": "execute_result"
    }
   ],
   "source": [
    "S.iloc[0:3]"
   ]
  },
  {
   "cell_type": "code",
   "execution_count": 14,
   "metadata": {},
   "outputs": [
    {
     "data": {
      "text/html": [
       "<div>\n",
       "<style scoped>\n",
       "    .dataframe tbody tr th:only-of-type {\n",
       "        vertical-align: middle;\n",
       "    }\n",
       "\n",
       "    .dataframe tbody tr th {\n",
       "        vertical-align: top;\n",
       "    }\n",
       "\n",
       "    .dataframe thead th {\n",
       "        text-align: right;\n",
       "    }\n",
       "</style>\n",
       "<table border=\"1\" class=\"dataframe\">\n",
       "  <thead>\n",
       "    <tr style=\"text-align: right;\">\n",
       "      <th></th>\n",
       "      <th>Prefix</th>\n",
       "      <th>Assignment</th>\n",
       "      <th>Tutorial</th>\n",
       "      <th>Midterm</th>\n",
       "      <th>TakeHome</th>\n",
       "      <th>Final</th>\n",
       "    </tr>\n",
       "  </thead>\n",
       "  <tbody>\n",
       "    <tr>\n",
       "      <th>0</th>\n",
       "      <td>5</td>\n",
       "      <td>57.14</td>\n",
       "      <td>34.09</td>\n",
       "      <td>64.38</td>\n",
       "      <td>51.48</td>\n",
       "      <td>52.50</td>\n",
       "    </tr>\n",
       "    <tr>\n",
       "      <th>1</th>\n",
       "      <td>8</td>\n",
       "      <td>95.05</td>\n",
       "      <td>105.49</td>\n",
       "      <td>67.50</td>\n",
       "      <td>99.07</td>\n",
       "      <td>68.33</td>\n",
       "    </tr>\n",
       "    <tr>\n",
       "      <th>2</th>\n",
       "      <td>8</td>\n",
       "      <td>83.70</td>\n",
       "      <td>83.17</td>\n",
       "      <td>NaN</td>\n",
       "      <td>63.15</td>\n",
       "      <td>48.89</td>\n",
       "    </tr>\n",
       "    <tr>\n",
       "      <th>3</th>\n",
       "      <td>7</td>\n",
       "      <td>NaN</td>\n",
       "      <td>NaN</td>\n",
       "      <td>49.38</td>\n",
       "      <td>105.93</td>\n",
       "      <td>80.56</td>\n",
       "    </tr>\n",
       "    <tr>\n",
       "      <th>4</th>\n",
       "      <td>8</td>\n",
       "      <td>91.32</td>\n",
       "      <td>93.64</td>\n",
       "      <td>95.00</td>\n",
       "      <td>107.41</td>\n",
       "      <td>73.89</td>\n",
       "    </tr>\n",
       "    <tr>\n",
       "      <th>5</th>\n",
       "      <td>7</td>\n",
       "      <td>95.00</td>\n",
       "      <td>92.58</td>\n",
       "      <td>93.12</td>\n",
       "      <td>97.78</td>\n",
       "      <td>68.06</td>\n",
       "    </tr>\n",
       "    <tr>\n",
       "      <th>6</th>\n",
       "      <td>8</td>\n",
       "      <td>95.05</td>\n",
       "      <td>102.99</td>\n",
       "      <td>56.25</td>\n",
       "      <td>99.07</td>\n",
       "      <td>50.00</td>\n",
       "    </tr>\n",
       "    <tr>\n",
       "      <th>7</th>\n",
       "      <td>7</td>\n",
       "      <td>72.85</td>\n",
       "      <td>86.85</td>\n",
       "      <td>60.00</td>\n",
       "      <td>NaN</td>\n",
       "      <td>56.11</td>\n",
       "    </tr>\n",
       "    <tr>\n",
       "      <th>8</th>\n",
       "      <td>8</td>\n",
       "      <td>84.26</td>\n",
       "      <td>93.10</td>\n",
       "      <td>47.50</td>\n",
       "      <td>18.52</td>\n",
       "      <td>50.83</td>\n",
       "    </tr>\n",
       "    <tr>\n",
       "      <th>9</th>\n",
       "      <td>7</td>\n",
       "      <td>90.10</td>\n",
       "      <td>97.55</td>\n",
       "      <td>51.25</td>\n",
       "      <td>88.89</td>\n",
       "      <td>63.61</td>\n",
       "    </tr>\n",
       "  </tbody>\n",
       "</table>\n",
       "</div>"
      ],
      "text/plain": [
       "   Prefix  Assignment  Tutorial  Midterm  TakeHome  Final\n",
       "0       5       57.14     34.09    64.38     51.48  52.50\n",
       "1       8       95.05    105.49    67.50     99.07  68.33\n",
       "2       8       83.70     83.17      NaN     63.15  48.89\n",
       "3       7         NaN       NaN    49.38    105.93  80.56\n",
       "4       8       91.32     93.64    95.00    107.41  73.89\n",
       "5       7       95.00     92.58    93.12     97.78  68.06\n",
       "6       8       95.05    102.99    56.25     99.07  50.00\n",
       "7       7       72.85     86.85    60.00       NaN  56.11\n",
       "8       8       84.26     93.10    47.50     18.52  50.83\n",
       "9       7       90.10     97.55    51.25     88.89  63.61"
      ]
     },
     "execution_count": 14,
     "metadata": {},
     "output_type": "execute_result"
    }
   ],
   "source": [
    "df = pd.read_csv('datasets/class_grades.csv')\n",
    "df = df.head(10)\n",
    "df"
   ]
  },
  {
   "cell_type": "code",
   "execution_count": 17,
   "metadata": {},
   "outputs": [
    {
     "data": {
      "text/html": [
       "<div>\n",
       "<style scoped>\n",
       "    .dataframe tbody tr th:only-of-type {\n",
       "        vertical-align: middle;\n",
       "    }\n",
       "\n",
       "    .dataframe tbody tr th {\n",
       "        vertical-align: top;\n",
       "    }\n",
       "\n",
       "    .dataframe thead th {\n",
       "        text-align: right;\n",
       "    }\n",
       "</style>\n",
       "<table border=\"1\" class=\"dataframe\">\n",
       "  <thead>\n",
       "    <tr style=\"text-align: right;\">\n",
       "      <th></th>\n",
       "      <th>Prefix</th>\n",
       "      <th>Assignment</th>\n",
       "      <th>Tutorial</th>\n",
       "      <th>Midterm</th>\n",
       "      <th>TakeHome</th>\n",
       "      <th>Final</th>\n",
       "    </tr>\n",
       "  </thead>\n",
       "  <tbody>\n",
       "    <tr>\n",
       "      <th>2</th>\n",
       "      <td>8</td>\n",
       "      <td>83.70</td>\n",
       "      <td>83.17</td>\n",
       "      <td>NaN</td>\n",
       "      <td>63.15</td>\n",
       "      <td>48.89</td>\n",
       "    </tr>\n",
       "    <tr>\n",
       "      <th>3</th>\n",
       "      <td>7</td>\n",
       "      <td>NaN</td>\n",
       "      <td>NaN</td>\n",
       "      <td>49.38</td>\n",
       "      <td>105.93</td>\n",
       "      <td>80.56</td>\n",
       "    </tr>\n",
       "    <tr>\n",
       "      <th>7</th>\n",
       "      <td>7</td>\n",
       "      <td>72.85</td>\n",
       "      <td>86.85</td>\n",
       "      <td>60.00</td>\n",
       "      <td>NaN</td>\n",
       "      <td>56.11</td>\n",
       "    </tr>\n",
       "  </tbody>\n",
       "</table>\n",
       "</div>"
      ],
      "text/plain": [
       "   Prefix  Assignment  Tutorial  Midterm  TakeHome  Final\n",
       "2       8       83.70     83.17      NaN     63.15  48.89\n",
       "3       7         NaN       NaN    49.38    105.93  80.56\n",
       "7       7       72.85     86.85    60.00       NaN  56.11"
      ]
     },
     "execution_count": 17,
     "metadata": {},
     "output_type": "execute_result"
    }
   ],
   "source": [
    "df[df.isnull().any(axis=1)]"
   ]
  },
  {
   "cell_type": "code",
   "execution_count": 67,
   "metadata": {},
   "outputs": [
    {
     "name": "stdout",
     "output_type": "stream",
     "text": [
      "[4 3 1 2]\n"
     ]
    },
    {
     "data": {
      "text/html": [
       "<div>\n",
       "<style scoped>\n",
       "    .dataframe tbody tr th:only-of-type {\n",
       "        vertical-align: middle;\n",
       "    }\n",
       "\n",
       "    .dataframe tbody tr th {\n",
       "        vertical-align: top;\n",
       "    }\n",
       "\n",
       "    .dataframe thead th {\n",
       "        text-align: right;\n",
       "    }\n",
       "</style>\n",
       "<table border=\"1\" class=\"dataframe\">\n",
       "  <thead>\n",
       "    <tr style=\"text-align: right;\">\n",
       "      <th></th>\n",
       "      <th>CHILDNM</th>\n",
       "      <th>EDUC1</th>\n",
       "    </tr>\n",
       "  </thead>\n",
       "  <tbody>\n",
       "  </tbody>\n",
       "</table>\n",
       "</div>"
      ],
      "text/plain": [
       "Empty DataFrame\n",
       "Columns: [CHILDNM, EDUC1]\n",
       "Index: []"
      ]
     },
     "execution_count": 67,
     "metadata": {},
     "output_type": "execute_result"
    }
   ],
   "source": [
    "import pandas as pd\n",
    "df = pd.read_csv('datasets/NISPUF17.csv')\n",
    "#df[['CHILDNM','EDUC1']]\n",
    "#df[df['EDUC1'] < 12]['EDUC1']\n",
    "#df[df['EDUC1'].lt(12) & df['EDUC1'].gt(4)]['EDUC1']\n",
    "#df.shape\n",
    "dfc = df[['CHILDNM','EDUC1']]\n",
    "#df['CHILDNM'].unique()\n",
    "#print(df['EDUC1'].unique())\n",
    "\n",
    "#dfc.head(19)\n",
    "#dfc[['CHILDNM','EDUC1']].where(dfc['EDUC1'] == 12).dropna()\n",
    "#dfc[dfc['EDUC1'] == 4][['CHILDNM','EDUC1']]\n",
    "nn = dfc[dfc.isnull().any(axis=1)] #checks null\n",
    "d = {\n",
    "    'less than high school' : sum(dfc[dfc['EDUC1'] == 1]['CHILDNM'])/sum(dfc['CHILDNM']),\n",
    "    'high school' : sum(dfc[dfc['EDUC1'] == 2]['CHILDNM'])/sum(dfc['CHILDNM']),\n",
    "    'more than high school but not college' : sum(dfc[dfc['EDUC1'] == 3]['CHILDNM'])/sum(dfc['CHILDNM']),\n",
    "    'college' : sum(dfc[(dfc['EDUC1'] == 4 )]['CHILDNM'])/sum(dfc['CHILDNM']),\n",
    "}\n",
    "nn"
   ]
  },
  {
   "cell_type": "code",
   "execution_count": 93,
   "metadata": {},
   "outputs": [],
   "source": [
    "def proportion_of_education():\n",
    "    dfc = pd.read_csv('datasets/NISPUF17.csv')[['CHILDNM','EDUC1']]\n",
    "    d = {\n",
    "        'less than high school' : sum(dfc[dfc['EDUC1'] == 1]['CHILDNM'])/sum(dfc['CHILDNM']),\n",
    "        'high school' : sum(dfc[dfc['EDUC1'] == 2]['CHILDNM'])/sum(dfc['CHILDNM']),\n",
    "        'more than high school but not college' : sum(dfc[dfc['EDUC1'] == 3]['CHILDNM'])/sum(dfc['CHILDNM']),\n",
    "        'college' : sum(dfc[(dfc['EDUC1'] == 4 )]['CHILDNM'])/sum(dfc['CHILDNM']),\n",
    "    }\n",
    "    return d\n"
   ]
  },
  {
   "cell_type": "code",
   "execution_count": 95,
   "metadata": {},
   "outputs": [],
   "source": [
    "assert type(proportion_of_education())==type({}), \"You must return a dictionary.\"\n",
    "assert len(proportion_of_education()) == 4, \"You have not returned a dictionary with four items in it.\"\n",
    "assert \"less than high school\" in proportion_of_education().keys(), \"You have not returned a dictionary with the correct keys.\"\n",
    "assert \"high school\" in proportion_of_education().keys(), \"You have not returned a dictionary with the correct keys.\"\n",
    "assert \"more than high school but not college\" in proportion_of_education().keys(), \"You have not returned a dictionary with the correct keys.\"\n",
    "assert \"college\" in proportion_of_education().keys(), \"You have not returned a dictionary with the correct keys.\""
   ]
  },
  {
   "cell_type": "code",
   "execution_count": 123,
   "metadata": {},
   "outputs": [
    {
     "data": {
      "text/plain": [
       "(1.0212539851222104, 0.8343365611096571)"
      ]
     },
     "execution_count": 123,
     "metadata": {},
     "output_type": "execute_result"
    }
   ],
   "source": [
    "#dfc = pd.read_csv('datasets/NISPUF17.csv')[['CHILDNM','CBF_01','BF_ENDR06']]\n",
    "#print(dfc['CBF_01'].unique())\n",
    "#dfc.head(10)\n",
    "#dfc[dfc['CBF_01'] == 1]['BF_ENDR06'].head(10)\n",
    "#breast_feed_yes =  dfc[dfc['CBF_01'] == 1]\n",
    "#breast_feed_yes[breast_feed_yes.isnull().any(axis=1)] #breast feeded yes but length of time don't know!!\n",
    "#dfc[dfc['CBF_01'] == 2]['BF_ENDR06']\n",
    "#dfc[dfc['CBF_01'] == 3]['BF_ENDR06'].head(10)\n",
    "#dfc[dfc['CBF_01'] == 4]['BF_ENDR06'].head(10)\n",
    "dfc = pd.read_csv('datasets/NISPUF17.csv')[['CHILDNM','CBF_01','P_NUMFLU']]\n",
    "bmy = dfc[dfc['CBF_01'] == 1].dropna()\n",
    "bmn = dfc[dfc['CBF_01'] == 2].dropna()\n",
    "bmy.head(20)\n",
    "#bmn.head(20)\n",
    "#dfc.head(20)\n",
    "y = sum(bmy['P_NUMFLU'])/sum(bmy['CHILDNM'])\n",
    "n = sum(bmn['P_NUMFLU'])/sum(bmn['CHILDNM'])\n",
    "(y,n)"
   ]
  },
  {
   "cell_type": "code",
   "execution_count": 127,
   "metadata": {},
   "outputs": [
    {
     "data": {
      "text/plain": [
       "(1.0212539851222104, 0.8343365611096571)"
      ]
     },
     "execution_count": 127,
     "metadata": {},
     "output_type": "execute_result"
    }
   ],
   "source": [
    "def average_influenza_doses():\n",
    "    dfc = pd.read_csv('datasets/NISPUF17.csv')[['CHILDNM','CBF_01','P_NUMFLU']]\n",
    "    bmy = dfc[dfc['CBF_01'] == 1].dropna()\n",
    "    bmn = dfc[dfc['CBF_01'] == 2].dropna()\n",
    "    y = sum(bmy['P_NUMFLU'])/sum(bmy['CHILDNM'])\n",
    "    n = sum(bmn['P_NUMFLU'])/sum(bmn['CHILDNM'])\n",
    "    return (y,n)\n",
    "average_influenza_doses()"
   ]
  },
  {
   "cell_type": "code",
   "execution_count": 125,
   "metadata": {},
   "outputs": [],
   "source": [
    "assert len(average_influenza_doses())==2, \"Return two values in a tuple, the first for yes and the second for no.\"\n"
   ]
  },
  {
   "cell_type": "code",
   "execution_count": 47,
   "metadata": {},
   "outputs": [
    {
     "name": "stdout",
     "output_type": "stream",
     "text": [
      "[ 2  1 77 99]\n",
      "0.009650274067783526\n",
      "0.008080646451716137\n"
     ]
    }
   ],
   "source": [
    "import pandas as pd\n",
    "dfc = pd.read_csv('datasets/NISPUF17.csv')[['CHILDNM','SEX','HAD_CPOX','P_NUMVRC']]\n",
    "#dfc.head()\n",
    "#dfc['SEX'].unique() #1 male 2 female\n",
    "#dfc[dfc.isnull().any(axis=1)] # any rows at least one NaN\n",
    "#dfc['P_NUMVRC'].unique() #total number of doses\n",
    "print(dfc['HAD_CPOX'].unique()) #yes no don't know refused missing\n",
    "my = dfc[(dfc['SEX'] ==1) & (dfc['HAD_CPOX']==1) &(dfc['P_NUMVRC']>0.0)]\n",
    "mn = dfc[(dfc['SEX'] ==1) & (dfc['HAD_CPOX']==2) &(dfc['P_NUMVRC']>0.0)]\n",
    "print(sum(my['CHILDNM'])/sum(mn['CHILDNM']))\n",
    "fy = dfc[(dfc['SEX'] ==2) & (dfc['HAD_CPOX']==1) &(dfc['P_NUMVRC']>0.0)]\n",
    "fn = dfc[(dfc['SEX'] ==2) & (dfc['HAD_CPOX']!=1) &(dfc['P_NUMVRC']>0.0)]\n",
    "print(sum(fy['CHILDNM'])/sum(fn['CHILDNM']))\n"
   ]
  },
  {
   "cell_type": "code",
   "execution_count": 29,
   "metadata": {},
   "outputs": [
    {
     "data": {
      "text/plain": [
       "array([nan,  1.,  0.,  2.,  3.])"
      ]
     },
     "execution_count": 29,
     "metadata": {},
     "output_type": "execute_result"
    }
   ],
   "source": [
    "dfc['P_NUMVRC'].unique()"
   ]
  },
  {
   "cell_type": "code",
   "execution_count": 34,
   "metadata": {},
   "outputs": [
    {
     "data": {
      "text/html": [
       "<div>\n",
       "<style scoped>\n",
       "    .dataframe tbody tr th:only-of-type {\n",
       "        vertical-align: middle;\n",
       "    }\n",
       "\n",
       "    .dataframe tbody tr th {\n",
       "        vertical-align: top;\n",
       "    }\n",
       "\n",
       "    .dataframe thead th {\n",
       "        text-align: right;\n",
       "    }\n",
       "</style>\n",
       "<table border=\"1\" class=\"dataframe\">\n",
       "  <thead>\n",
       "    <tr style=\"text-align: right;\">\n",
       "      <th></th>\n",
       "      <th>CHILDNM</th>\n",
       "      <th>SEX</th>\n",
       "      <th>HAD_CPOX</th>\n",
       "      <th>P_NUMVRC</th>\n",
       "    </tr>\n",
       "  </thead>\n",
       "  <tbody>\n",
       "    <tr>\n",
       "      <th>296</th>\n",
       "      <td>2</td>\n",
       "      <td>2</td>\n",
       "      <td>1</td>\n",
       "      <td>NaN</td>\n",
       "    </tr>\n",
       "    <tr>\n",
       "      <th>468</th>\n",
       "      <td>3</td>\n",
       "      <td>2</td>\n",
       "      <td>1</td>\n",
       "      <td>NaN</td>\n",
       "    </tr>\n",
       "    <tr>\n",
       "      <th>630</th>\n",
       "      <td>1</td>\n",
       "      <td>2</td>\n",
       "      <td>1</td>\n",
       "      <td>NaN</td>\n",
       "    </tr>\n",
       "    <tr>\n",
       "      <th>668</th>\n",
       "      <td>3</td>\n",
       "      <td>2</td>\n",
       "      <td>1</td>\n",
       "      <td>NaN</td>\n",
       "    </tr>\n",
       "    <tr>\n",
       "      <th>756</th>\n",
       "      <td>1</td>\n",
       "      <td>2</td>\n",
       "      <td>1</td>\n",
       "      <td>NaN</td>\n",
       "    </tr>\n",
       "    <tr>\n",
       "      <th>...</th>\n",
       "      <td>...</td>\n",
       "      <td>...</td>\n",
       "      <td>...</td>\n",
       "      <td>...</td>\n",
       "    </tr>\n",
       "    <tr>\n",
       "      <th>28234</th>\n",
       "      <td>1</td>\n",
       "      <td>2</td>\n",
       "      <td>1</td>\n",
       "      <td>NaN</td>\n",
       "    </tr>\n",
       "    <tr>\n",
       "      <th>28366</th>\n",
       "      <td>3</td>\n",
       "      <td>1</td>\n",
       "      <td>1</td>\n",
       "      <td>NaN</td>\n",
       "    </tr>\n",
       "    <tr>\n",
       "      <th>28443</th>\n",
       "      <td>1</td>\n",
       "      <td>1</td>\n",
       "      <td>1</td>\n",
       "      <td>NaN</td>\n",
       "    </tr>\n",
       "    <tr>\n",
       "      <th>28453</th>\n",
       "      <td>1</td>\n",
       "      <td>1</td>\n",
       "      <td>1</td>\n",
       "      <td>NaN</td>\n",
       "    </tr>\n",
       "    <tr>\n",
       "      <th>28455</th>\n",
       "      <td>1</td>\n",
       "      <td>1</td>\n",
       "      <td>1</td>\n",
       "      <td>NaN</td>\n",
       "    </tr>\n",
       "  </tbody>\n",
       "</table>\n",
       "<p>229 rows × 4 columns</p>\n",
       "</div>"
      ],
      "text/plain": [
       "       CHILDNM  SEX  HAD_CPOX  P_NUMVRC\n",
       "296          2    2         1       NaN\n",
       "468          3    2         1       NaN\n",
       "630          1    2         1       NaN\n",
       "668          3    2         1       NaN\n",
       "756          1    2         1       NaN\n",
       "...        ...  ...       ...       ...\n",
       "28234        1    2         1       NaN\n",
       "28366        3    1         1       NaN\n",
       "28443        1    1         1       NaN\n",
       "28453        1    1         1       NaN\n",
       "28455        1    1         1       NaN\n",
       "\n",
       "[229 rows x 4 columns]"
      ]
     },
     "execution_count": 34,
     "metadata": {},
     "output_type": "execute_result"
    }
   ],
   "source": [
    "dfc_null = dfc[dfc.isnull().any(axis=1)]\n",
    "dfc_null[dfc_null['HAD_CPOX'] == 1]"
   ]
  },
  {
   "cell_type": "code",
   "execution_count": 35,
   "metadata": {},
   "outputs": [
    {
     "data": {
      "text/html": [
       "<div>\n",
       "<style scoped>\n",
       "    .dataframe tbody tr th:only-of-type {\n",
       "        vertical-align: middle;\n",
       "    }\n",
       "\n",
       "    .dataframe tbody tr th {\n",
       "        vertical-align: top;\n",
       "    }\n",
       "\n",
       "    .dataframe thead th {\n",
       "        text-align: right;\n",
       "    }\n",
       "</style>\n",
       "<table border=\"1\" class=\"dataframe\">\n",
       "  <thead>\n",
       "    <tr style=\"text-align: right;\">\n",
       "      <th></th>\n",
       "      <th>CHILDNM</th>\n",
       "      <th>SEX</th>\n",
       "      <th>HAD_CPOX</th>\n",
       "      <th>P_NUMVRC</th>\n",
       "    </tr>\n",
       "  </thead>\n",
       "  <tbody>\n",
       "  </tbody>\n",
       "</table>\n",
       "</div>"
      ],
      "text/plain": [
       "Empty DataFrame\n",
       "Columns: [CHILDNM, SEX, HAD_CPOX, P_NUMVRC]\n",
       "Index: []"
      ]
     },
     "execution_count": 35,
     "metadata": {},
     "output_type": "execute_result"
    }
   ],
   "source": [
    "my[my.isnull().any(axis=1)]"
   ]
  },
  {
   "cell_type": "code",
   "execution_count": 36,
   "metadata": {},
   "outputs": [
    {
     "data": {
      "text/html": [
       "<div>\n",
       "<style scoped>\n",
       "    .dataframe tbody tr th:only-of-type {\n",
       "        vertical-align: middle;\n",
       "    }\n",
       "\n",
       "    .dataframe tbody tr th {\n",
       "        vertical-align: top;\n",
       "    }\n",
       "\n",
       "    .dataframe thead th {\n",
       "        text-align: right;\n",
       "    }\n",
       "</style>\n",
       "<table border=\"1\" class=\"dataframe\">\n",
       "  <thead>\n",
       "    <tr style=\"text-align: right;\">\n",
       "      <th></th>\n",
       "      <th>CHILDNM</th>\n",
       "      <th>SEX</th>\n",
       "      <th>HAD_CPOX</th>\n",
       "      <th>P_NUMVRC</th>\n",
       "    </tr>\n",
       "  </thead>\n",
       "  <tbody>\n",
       "  </tbody>\n",
       "</table>\n",
       "</div>"
      ],
      "text/plain": [
       "Empty DataFrame\n",
       "Columns: [CHILDNM, SEX, HAD_CPOX, P_NUMVRC]\n",
       "Index: []"
      ]
     },
     "execution_count": 36,
     "metadata": {},
     "output_type": "execute_result"
    }
   ],
   "source": [
    "fy[fy.isnull().any(axis=1)]"
   ]
  },
  {
   "cell_type": "code",
   "execution_count": 44,
   "metadata": {},
   "outputs": [
    {
     "data": {
      "text/html": [
       "<div>\n",
       "<style scoped>\n",
       "    .dataframe tbody tr th:only-of-type {\n",
       "        vertical-align: middle;\n",
       "    }\n",
       "\n",
       "    .dataframe tbody tr th {\n",
       "        vertical-align: top;\n",
       "    }\n",
       "\n",
       "    .dataframe thead th {\n",
       "        text-align: right;\n",
       "    }\n",
       "</style>\n",
       "<table border=\"1\" class=\"dataframe\">\n",
       "  <thead>\n",
       "    <tr style=\"text-align: right;\">\n",
       "      <th></th>\n",
       "      <th>CHILDNM</th>\n",
       "      <th>SEX</th>\n",
       "      <th>HAD_CPOX</th>\n",
       "      <th>P_NUMVRC</th>\n",
       "    </tr>\n",
       "  </thead>\n",
       "  <tbody>\n",
       "    <tr>\n",
       "      <th>461</th>\n",
       "      <td>2</td>\n",
       "      <td>1</td>\n",
       "      <td>1</td>\n",
       "      <td>1.0</td>\n",
       "    </tr>\n",
       "    <tr>\n",
       "      <th>687</th>\n",
       "      <td>2</td>\n",
       "      <td>1</td>\n",
       "      <td>1</td>\n",
       "      <td>1.0</td>\n",
       "    </tr>\n",
       "    <tr>\n",
       "      <th>863</th>\n",
       "      <td>1</td>\n",
       "      <td>1</td>\n",
       "      <td>1</td>\n",
       "      <td>1.0</td>\n",
       "    </tr>\n",
       "    <tr>\n",
       "      <th>1479</th>\n",
       "      <td>2</td>\n",
       "      <td>1</td>\n",
       "      <td>1</td>\n",
       "      <td>1.0</td>\n",
       "    </tr>\n",
       "    <tr>\n",
       "      <th>1906</th>\n",
       "      <td>3</td>\n",
       "      <td>1</td>\n",
       "      <td>1</td>\n",
       "      <td>1.0</td>\n",
       "    </tr>\n",
       "    <tr>\n",
       "      <th>...</th>\n",
       "      <td>...</td>\n",
       "      <td>...</td>\n",
       "      <td>...</td>\n",
       "      <td>...</td>\n",
       "    </tr>\n",
       "    <tr>\n",
       "      <th>27045</th>\n",
       "      <td>2</td>\n",
       "      <td>1</td>\n",
       "      <td>1</td>\n",
       "      <td>1.0</td>\n",
       "    </tr>\n",
       "    <tr>\n",
       "      <th>27720</th>\n",
       "      <td>1</td>\n",
       "      <td>1</td>\n",
       "      <td>1</td>\n",
       "      <td>1.0</td>\n",
       "    </tr>\n",
       "    <tr>\n",
       "      <th>28106</th>\n",
       "      <td>2</td>\n",
       "      <td>1</td>\n",
       "      <td>1</td>\n",
       "      <td>1.0</td>\n",
       "    </tr>\n",
       "    <tr>\n",
       "      <th>28107</th>\n",
       "      <td>2</td>\n",
       "      <td>1</td>\n",
       "      <td>1</td>\n",
       "      <td>1.0</td>\n",
       "    </tr>\n",
       "    <tr>\n",
       "      <th>28404</th>\n",
       "      <td>1</td>\n",
       "      <td>1</td>\n",
       "      <td>1</td>\n",
       "      <td>1.0</td>\n",
       "    </tr>\n",
       "  </tbody>\n",
       "</table>\n",
       "<p>68 rows × 4 columns</p>\n",
       "</div>"
      ],
      "text/plain": [
       "       CHILDNM  SEX  HAD_CPOX  P_NUMVRC\n",
       "461          2    1         1       1.0\n",
       "687          2    1         1       1.0\n",
       "863          1    1         1       1.0\n",
       "1479         2    1         1       1.0\n",
       "1906         3    1         1       1.0\n",
       "...        ...  ...       ...       ...\n",
       "27045        2    1         1       1.0\n",
       "27720        1    1         1       1.0\n",
       "28106        2    1         1       1.0\n",
       "28107        2    1         1       1.0\n",
       "28404        1    1         1       1.0\n",
       "\n",
       "[68 rows x 4 columns]"
      ]
     },
     "execution_count": 44,
     "metadata": {},
     "output_type": "execute_result"
    }
   ],
   "source": [
    "my"
   ]
  },
  {
   "cell_type": "code",
   "execution_count": 54,
   "metadata": {},
   "outputs": [
    {
     "name": "stdout",
     "output_type": "stream",
     "text": [
      "0.009941192943153179\n",
      "0.007827221336425568\n"
     ]
    },
    {
     "data": {
      "text/plain": [
       "array([nan,  1.,  0.,  2.,  3.])"
      ]
     },
     "execution_count": 54,
     "metadata": {},
     "output_type": "execute_result"
    }
   ],
   "source": [
    "#print(dfc['HAD_CPOX'].unique()) #yes no don't know refused missing\n",
    "my = dfc[(dfc['SEX'] ==1) & (dfc['HAD_CPOX']==1) &(dfc['P_NUMVRC']>0.0)]\n",
    "mn = dfc[(dfc['SEX'] ==1) & (dfc['HAD_CPOX']==2) &(dfc['P_NUMVRC']>0.0)]\n",
    "fy = dfc[(dfc['SEX'] ==2) & (dfc['HAD_CPOX']==1) &(dfc['P_NUMVRC']>0.0)]\n",
    "fn = dfc[(dfc['SEX'] ==2) & (dfc['HAD_CPOX']==2) &(dfc['P_NUMVRC']>0.0)]\n",
    "print(sum(my['P_NUMVRC'])/sum(mn['P_NUMVRC']))\n",
    "print(sum(fy['P_NUMVRC'])/sum(fn['P_NUMVRC']))\n",
    "d ={\n",
    "    \"male\":sum(my['P_NUMVRC'])/sum(mn['P_NUMVRC']),\n",
    "    \"female\":sum(fy['P_NUMVRC'])/sum(fn['P_NUMVRC']),\n",
    "}\n"
   ]
  },
  {
   "cell_type": "code",
   "execution_count": 59,
   "metadata": {},
   "outputs": [],
   "source": [
    "def chickenpox_by_sex():\n",
    "    import pandas as pd\n",
    "    dfc = pd.read_csv('datasets/NISPUF17.csv')[['CHILDNM','SEX','HAD_CPOX','P_NUMVRC']]\n",
    "    my = dfc[(dfc['SEX'] ==1) & (dfc['HAD_CPOX']==1) &(dfc['P_NUMVRC']>0.0)]\n",
    "    mn = dfc[(dfc['SEX'] ==1) & (dfc['HAD_CPOX']==2) &(dfc['P_NUMVRC']>0.0)]\n",
    "    fy = dfc[(dfc['SEX'] ==2) & (dfc['HAD_CPOX']==1) &(dfc['P_NUMVRC']>0.0)]\n",
    "    fn = dfc[(dfc['SEX'] ==2) & (dfc['HAD_CPOX']==2) &(dfc['P_NUMVRC']>0.0)]\n",
    "    d ={\n",
    "        \"male\":sum(my['P_NUMVRC'])/sum(mn['P_NUMVRC']),\n",
    "        \"female\":sum(fy['P_NUMVRC'])/sum(fn['P_NUMVRC']),\n",
    "    }\n",
    "    return d"
   ]
  },
  {
   "cell_type": "code",
   "execution_count": 60,
   "metadata": {},
   "outputs": [
    {
     "data": {
      "text/plain": [
       "{'male': 0.009941192943153179, 'female': 0.007827221336425568}"
      ]
     },
     "execution_count": 60,
     "metadata": {},
     "output_type": "execute_result"
    }
   ],
   "source": [
    "chickenpox_by_sex()"
   ]
  },
  {
   "cell_type": "code",
   "execution_count": 61,
   "metadata": {},
   "outputs": [
    {
     "data": {
      "text/html": [
       "<div>\n",
       "<style scoped>\n",
       "    .dataframe tbody tr th:only-of-type {\n",
       "        vertical-align: middle;\n",
       "    }\n",
       "\n",
       "    .dataframe tbody tr th {\n",
       "        vertical-align: top;\n",
       "    }\n",
       "\n",
       "    .dataframe thead th {\n",
       "        text-align: right;\n",
       "    }\n",
       "</style>\n",
       "<table border=\"1\" class=\"dataframe\">\n",
       "  <thead>\n",
       "    <tr style=\"text-align: right;\">\n",
       "      <th></th>\n",
       "      <th>had_chickenpox_column</th>\n",
       "      <th>num_chickenpox_vaccine_column</th>\n",
       "    </tr>\n",
       "  </thead>\n",
       "  <tbody>\n",
       "    <tr>\n",
       "      <th>0</th>\n",
       "      <td>1</td>\n",
       "      <td>1</td>\n",
       "    </tr>\n",
       "    <tr>\n",
       "      <th>1</th>\n",
       "      <td>2</td>\n",
       "      <td>1</td>\n",
       "    </tr>\n",
       "    <tr>\n",
       "      <th>2</th>\n",
       "      <td>2</td>\n",
       "      <td>0</td>\n",
       "    </tr>\n",
       "    <tr>\n",
       "      <th>3</th>\n",
       "      <td>1</td>\n",
       "      <td>0</td>\n",
       "    </tr>\n",
       "    <tr>\n",
       "      <th>4</th>\n",
       "      <td>1</td>\n",
       "      <td>2</td>\n",
       "    </tr>\n",
       "    <tr>\n",
       "      <th>...</th>\n",
       "      <td>...</td>\n",
       "      <td>...</td>\n",
       "    </tr>\n",
       "    <tr>\n",
       "      <th>95</th>\n",
       "      <td>2</td>\n",
       "      <td>3</td>\n",
       "    </tr>\n",
       "    <tr>\n",
       "      <th>96</th>\n",
       "      <td>2</td>\n",
       "      <td>0</td>\n",
       "    </tr>\n",
       "    <tr>\n",
       "      <th>97</th>\n",
       "      <td>1</td>\n",
       "      <td>1</td>\n",
       "    </tr>\n",
       "    <tr>\n",
       "      <th>98</th>\n",
       "      <td>2</td>\n",
       "      <td>5</td>\n",
       "    </tr>\n",
       "    <tr>\n",
       "      <th>99</th>\n",
       "      <td>2</td>\n",
       "      <td>2</td>\n",
       "    </tr>\n",
       "  </tbody>\n",
       "</table>\n",
       "<p>100 rows × 2 columns</p>\n",
       "</div>"
      ],
      "text/plain": [
       "    had_chickenpox_column  num_chickenpox_vaccine_column\n",
       "0                       1                              1\n",
       "1                       2                              1\n",
       "2                       2                              0\n",
       "3                       1                              0\n",
       "4                       1                              2\n",
       "..                    ...                            ...\n",
       "95                      2                              3\n",
       "96                      2                              0\n",
       "97                      1                              1\n",
       "98                      2                              5\n",
       "99                      2                              2\n",
       "\n",
       "[100 rows x 2 columns]"
      ]
     },
     "execution_count": 61,
     "metadata": {},
     "output_type": "execute_result"
    }
   ],
   "source": [
    "import scipy.stats as stats\n",
    "import numpy as np\n",
    "import pandas as pd\n",
    "\n",
    "# this is just an example dataframe\n",
    "df=pd.DataFrame({\"had_chickenpox_column\":np.random.randint(1,3,size=(100)),\n",
    "               \"num_chickenpox_vaccine_column\":np.random.randint(0,6,size=(100))})\n",
    "df.head(100)"
   ]
  },
  {
   "cell_type": "code",
   "execution_count": 62,
   "metadata": {},
   "outputs": [
    {
     "data": {
      "text/plain": [
       "-0.07834833820779709"
      ]
     },
     "execution_count": 62,
     "metadata": {},
     "output_type": "execute_result"
    }
   ],
   "source": [
    "def corr_chickenpox():\n",
    "    import scipy.stats as stats\n",
    "    import numpy as np\n",
    "    import pandas as pd\n",
    "    \n",
    "    # this is just an example dataframe\n",
    "    df=pd.DataFrame({\"had_chickenpox_column\":np.random.randint(1,3,size=(100)),\n",
    "                   \"num_chickenpox_vaccine_column\":np.random.randint(0,6,size=(100))})\n",
    "\n",
    "    # here is some stub code to actually run the correlation\n",
    "    corr, pval=stats.pearsonr(df[\"had_chickenpox_column\"],df[\"num_chickenpox_vaccine_column\"])\n",
    "    \n",
    "    # just return the correlation\n",
    "    return corr\n",
    "\n",
    "    # YOUR CODE HERE\n",
    "    #raise NotImplementedError()\n",
    "corr_chickenpox()"
   ]
  },
  {
   "cell_type": "code",
   "execution_count": 76,
   "metadata": {},
   "outputs": [
    {
     "data": {
      "text/plain": [
       "{'less than high school': 0.11,\n",
       " 'high school': 0.18,\n",
       " 'more than high school but not college': 0.25,\n",
       " 'college': 0.46}"
      ]
     },
     "execution_count": 76,
     "metadata": {},
     "output_type": "execute_result"
    }
   ],
   "source": [
    "def proportion_of_education():\n",
    "    dfc = pd.read_csv('datasets/NISPUF17.csv')[['CHILDNM','EDUC1']]\n",
    "    d = {\n",
    "        'less than high school' : sum(dfc[dfc['EDUC1'] == 1]['CHILDNM'])/sum(dfc['CHILDNM']),\n",
    "        'high school' : sum(dfc[dfc['EDUC1'] == 2]['CHILDNM'])/sum(dfc['CHILDNM']),\n",
    "        'more than high school but not college' : sum(dfc[dfc['EDUC1'] == 3]['CHILDNM'])/sum(dfc['CHILDNM']),\n",
    "        'college' : sum(dfc[(dfc['EDUC1'] == 4 )]['CHILDNM'])/sum(dfc['CHILDNM']),\n",
    "    }\n",
    "    return d\n",
    "\n",
    "proportion_of_education()"
   ]
  },
  {
   "cell_type": "code",
   "execution_count": 75,
   "metadata": {},
   "outputs": [
    {
     "data": {
      "text/plain": [
       "{'less than high school': 0.11,\n",
       " 'high school': 0.18,\n",
       " 'more than high school but not college': 0.25,\n",
       " 'college': 0.46}"
      ]
     },
     "execution_count": 75,
     "metadata": {},
     "output_type": "execute_result"
    }
   ],
   "source": [
    "import pandas as pd\n",
    "df = pd.read_csv('datasets/NISPUF17.csv')\n",
    "#df[['CHILDNM','EDUC1']]\n",
    "#df[df['EDUC1'] < 12]['EDUC1']\n",
    "#df[df['EDUC1'].lt(12) & df['EDUC1'].gt(4)]['EDUC1']\n",
    "#df.shape\n",
    "dfc = df[['CHILDNM','EDUC1']]\n",
    "#df['CHILDNM'].unique()\n",
    "#print(df['EDUC1'].unique())\n",
    "\n",
    "#dfc.head(19)\n",
    "#dfc[['CHILDNM','EDUC1']].where(dfc['EDUC1'] == 12).dropna()\n",
    "#dfc[dfc['EDUC1'] == 4][['CHILDNM','EDUC1']]\n",
    "nn = dfc[dfc.isnull().any(axis=1)] #checks null\n",
    "d = {\n",
    "    'less than high school' : sum(dfc[dfc['EDUC1'] == 1]['CHILDNM'])/sum(dfc['CHILDNM']),\n",
    "    'high school' : sum(dfc[dfc['EDUC1'] == 2]['CHILDNM'])/sum(dfc['CHILDNM']),\n",
    "    'more than high school but not college' : sum(dfc[dfc['EDUC1'] == 3]['CHILDNM'])/sum(dfc['CHILDNM']),\n",
    "    'college' : sum(dfc[(dfc['EDUC1'] == 4 )]['CHILDNM'])/sum(dfc['CHILDNM']),\n",
    "}\n",
    "d"
   ]
  },
  {
   "cell_type": "markdown",
   "metadata": {},
   "source": [
    "# Reattempt"
   ]
  },
  {
   "cell_type": "code",
   "execution_count": 20,
   "metadata": {},
   "outputs": [
    {
     "data": {
      "text/plain": [
       "{'less than high school': 0.11250237146651489,\n",
       " 'high school': 0.17577309808385505,\n",
       " 'more than high school but not college': 0.24972490988427243,\n",
       " 'college': 0.4619996205653576}"
      ]
     },
     "execution_count": 20,
     "metadata": {},
     "output_type": "execute_result"
    }
   ],
   "source": [
    "def proportion_of_education():\n",
    "    import pandas as pd\n",
    "    df = pd.read_csv('assets/NISPUF17.csv')\n",
    "    dfc = df[['CHILDNM','EDUC1']]\n",
    "    #dfc[dfc.isnull().any(axis=1)] #checks if any null row exits\n",
    "    #type(dfc['EDUC1'].unique())\n",
    "    #dfc['EDUC1'].unique()\n",
    "    total_child = sum(dfc['CHILDNM'])\n",
    "    d = {\n",
    "        'less than high school':sum(dfc[dfc['EDUC1'] == 1]['CHILDNM'])/total_child,\n",
    "        'high school':sum(dfc[dfc['EDUC1'] == 2]['CHILDNM'])/total_child,\n",
    "        'more than high school but not college':sum(dfc[dfc['EDUC1'] == 3]['CHILDNM'])/total_child,\n",
    "        'college':sum(dfc[dfc['EDUC1'] == 4]['CHILDNM'])/total_child,\n",
    "    }\n",
    "    return d\n",
    "proportion_of_education()\n",
    "#t = 0\n",
    "#for k,v in d.items():\n",
    "#    t += v\n",
    "#print(t)"
   ]
  },
  {
   "cell_type": "code",
   "execution_count": 29,
   "metadata": {},
   "outputs": [
    {
     "data": {
      "text/plain": [
       "{'less than high school': 0.1,\n",
       " 'high school': 0.2,\n",
       " 'more than high school but not college': 0.2,\n",
       " 'college': 0.5}"
      ]
     },
     "execution_count": 29,
     "metadata": {},
     "output_type": "execute_result"
    }
   ],
   "source": [
    "def proportion_of_education():\n",
    "    import pandas as pd\n",
    "    dfc = pd.read_csv('assets/NISPUF17.csv')\n",
    "    #dfc[dfc.isnull().any(axis=1)] #checks if any null row exits\n",
    "    #type(dfc['EDUC1'].unique())\n",
    "    #dfc['EDUC1'].unique()\n",
    "    total_child = sum(dfc['CHILDNM'])\n",
    "    d = {\n",
    "        'less than high school':round(sum(dfc[dfc['EDUC1'] == 1]['CHILDNM'])/total_child,1),\n",
    "        'high school':round(sum(dfc[dfc['EDUC1'] == 2]['CHILDNM'])/total_child,1),\n",
    "        'more than high school but not college':round(sum(dfc[dfc['EDUC1'] == 3]['CHILDNM'])/total_child,1),\n",
    "        'college':round(sum(dfc[dfc['EDUC1'] == 4]['CHILDNM'])/total_child,1),\n",
    "    }\n",
    "    return d\n",
    "proportion_of_education()"
   ]
  },
  {
   "cell_type": "code",
   "execution_count": 33,
   "metadata": {},
   "outputs": [
    {
     "data": {
      "text/html": [
       "<div>\n",
       "<style scoped>\n",
       "    .dataframe tbody tr th:only-of-type {\n",
       "        vertical-align: middle;\n",
       "    }\n",
       "\n",
       "    .dataframe tbody tr th {\n",
       "        vertical-align: top;\n",
       "    }\n",
       "\n",
       "    .dataframe thead th {\n",
       "        text-align: right;\n",
       "    }\n",
       "</style>\n",
       "<table border=\"1\" class=\"dataframe\">\n",
       "  <thead>\n",
       "    <tr style=\"text-align: right;\">\n",
       "      <th></th>\n",
       "      <th>CHILDNM</th>\n",
       "      <th>EDUC1</th>\n",
       "    </tr>\n",
       "  </thead>\n",
       "  <tbody>\n",
       "  </tbody>\n",
       "</table>\n",
       "</div>"
      ],
      "text/plain": [
       "Empty DataFrame\n",
       "Columns: [CHILDNM, EDUC1]\n",
       "Index: []"
      ]
     },
     "execution_count": 33,
     "metadata": {},
     "output_type": "execute_result"
    }
   ],
   "source": [
    "import pandas as pd\n",
    "dfc = pd.read_csv('assets/NISPUF17.csv')[['CHILDNM','EDUC1']]\n",
    "#dfc[dfc.isnull().any(axis=1)]"
   ]
  },
  {
   "cell_type": "code",
   "execution_count": 40,
   "metadata": {},
   "outputs": [
    {
     "data": {
      "text/plain": [
       "{'less than high school': 0.11250237146651489,\n",
       " 'high school': 0.17577309808385505,\n",
       " 'more than high school but not college': 0.24972490988427243,\n",
       " 'college': 0.4619996205653576}"
      ]
     },
     "execution_count": 40,
     "metadata": {},
     "output_type": "execute_result"
    }
   ],
   "source": [
    "def proportion_of_education():\n",
    "    import pandas as pd\n",
    "    dfc = pd.read_csv('assets/NISPUF17.csv')\n",
    "    #dfc[dfc.isnull().any(axis=1)] #checks if any null row exits\n",
    "    #type(dfc['EDUC1'].unique())\n",
    "    #dfc['EDUC1'].unique()\n",
    "    total_child = sum(dfc['CHILDNM'])\n",
    "    d = {\n",
    "        'less than high school':sum(dfc[dfc['EDUC1'] == 1]['CHILDNM'])/total_child,\n",
    "        'high school':sum(dfc[dfc['EDUC1'] == 2]['CHILDNM'])/total_child,\n",
    "        'more than high school but not college':sum(dfc[dfc['EDUC1'] == 3]['CHILDNM'])/total_child,\n",
    "        'college':sum(dfc[dfc['EDUC1'] == 4]['CHILDNM'])/total_child,\n",
    "    }\n",
    "    return d\n",
    "proportion_of_education()"
   ]
  },
  {
   "cell_type": "code",
   "execution_count": 39,
   "metadata": {},
   "outputs": [
    {
     "data": {
      "text/plain": [
       "28465"
      ]
     },
     "execution_count": 39,
     "metadata": {},
     "output_type": "execute_result"
    }
   ],
   "source": [
    "import pandas as pd\n",
    "dfc = pd.read_csv('assets/NISPUF17.csv')\n",
    "dfc.shape[0]"
   ]
  },
  {
   "cell_type": "code",
   "execution_count": 41,
   "metadata": {},
   "outputs": [
    {
     "data": {
      "text/plain": [
       "{'less than high school': 0.20832601440365361,\n",
       " 'high school': 0.3254874407166696,\n",
       " 'more than high school but not college': 0.46242754259617075,\n",
       " 'college': 0.8555067626910241}"
      ]
     },
     "execution_count": 41,
     "metadata": {},
     "output_type": "execute_result"
    }
   ],
   "source": []
  },
  {
   "cell_type": "code",
   "execution_count": 45,
   "metadata": {},
   "outputs": [
    {
     "data": {
      "text/html": [
       "<div>\n",
       "<style scoped>\n",
       "    .dataframe tbody tr th:only-of-type {\n",
       "        vertical-align: middle;\n",
       "    }\n",
       "\n",
       "    .dataframe tbody tr th {\n",
       "        vertical-align: top;\n",
       "    }\n",
       "\n",
       "    .dataframe thead th {\n",
       "        text-align: right;\n",
       "    }\n",
       "</style>\n",
       "<table border=\"1\" class=\"dataframe\">\n",
       "  <thead>\n",
       "    <tr style=\"text-align: right;\">\n",
       "      <th></th>\n",
       "      <th>CHILDNM</th>\n",
       "      <th>EDUC1</th>\n",
       "    </tr>\n",
       "  </thead>\n",
       "  <tbody>\n",
       "    <tr>\n",
       "      <th>0</th>\n",
       "      <td>3</td>\n",
       "      <td>4</td>\n",
       "    </tr>\n",
       "    <tr>\n",
       "      <th>1</th>\n",
       "      <td>3</td>\n",
       "      <td>3</td>\n",
       "    </tr>\n",
       "    <tr>\n",
       "      <th>2</th>\n",
       "      <td>3</td>\n",
       "      <td>3</td>\n",
       "    </tr>\n",
       "    <tr>\n",
       "      <th>3</th>\n",
       "      <td>1</td>\n",
       "      <td>4</td>\n",
       "    </tr>\n",
       "    <tr>\n",
       "      <th>4</th>\n",
       "      <td>2</td>\n",
       "      <td>1</td>\n",
       "    </tr>\n",
       "    <tr>\n",
       "      <th>...</th>\n",
       "      <td>...</td>\n",
       "      <td>...</td>\n",
       "    </tr>\n",
       "    <tr>\n",
       "      <th>28460</th>\n",
       "      <td>1</td>\n",
       "      <td>3</td>\n",
       "    </tr>\n",
       "    <tr>\n",
       "      <th>28461</th>\n",
       "      <td>2</td>\n",
       "      <td>2</td>\n",
       "    </tr>\n",
       "    <tr>\n",
       "      <th>28462</th>\n",
       "      <td>1</td>\n",
       "      <td>3</td>\n",
       "    </tr>\n",
       "    <tr>\n",
       "      <th>28463</th>\n",
       "      <td>1</td>\n",
       "      <td>2</td>\n",
       "    </tr>\n",
       "    <tr>\n",
       "      <th>28464</th>\n",
       "      <td>1</td>\n",
       "      <td>4</td>\n",
       "    </tr>\n",
       "  </tbody>\n",
       "</table>\n",
       "<p>28465 rows × 2 columns</p>\n",
       "</div>"
      ],
      "text/plain": [
       "       CHILDNM  EDUC1\n",
       "0            3      4\n",
       "1            3      3\n",
       "2            3      3\n",
       "3            1      4\n",
       "4            2      1\n",
       "...        ...    ...\n",
       "28460        1      3\n",
       "28461        2      2\n",
       "28462        1      3\n",
       "28463        1      2\n",
       "28464        1      4\n",
       "\n",
       "[28465 rows x 2 columns]"
      ]
     },
     "execution_count": 45,
     "metadata": {},
     "output_type": "execute_result"
    }
   ],
   "source": [
    "import pandas as pd\n",
    "dfc = pd.read_csv('assets/NISPUF17.csv')\n",
    "dfc[['CHILDNM','EDUC1']]"
   ]
  },
  {
   "cell_type": "code",
   "execution_count": 51,
   "metadata": {},
   "outputs": [
    {
     "data": {
      "text/plain": [
       "{'less than high school': 0.10202002459160373,\n",
       " 'high school': 0.172352011241876,\n",
       " 'more than high school but not college': 0.24588090637625154,\n",
       " 'college': 0.47974705779026877}"
      ]
     },
     "execution_count": 51,
     "metadata": {},
     "output_type": "execute_result"
    }
   ],
   "source": [
    "#succeed\n",
    "def proportion_of_education():\n",
    "    import pandas as pd\n",
    "    dfc = pd.read_csv('assets/NISPUF17.csv')[['CHILDNM','EDUC1']]\n",
    "    #dfc[dfc.isnull().any(axis=1)] #checks if any null row exits\n",
    "    #type(dfc['EDUC1'].unique())\n",
    "    #dfc['EDUC1'].unique()\n",
    "    total_child = dfc.shape[0]\n",
    "    d = {\n",
    "        'less than high school':dfc[dfc['EDUC1']==1].shape[0]/total_child,\n",
    "        'high school':dfc[dfc['EDUC1']==2].shape[0]/total_child,\n",
    "        'more than high school but not college':dfc[dfc['EDUC1']==3].shape[0]/total_child,\n",
    "        'college':dfc[dfc['EDUC1']==4].shape[0]/total_child,\n",
    "    }\n",
    "    return d\n",
    "proportion_of_education()"
   ]
  },
  {
   "cell_type": "code",
   "execution_count": 54,
   "metadata": {},
   "outputs": [
    {
     "data": {
      "text/html": [
       "<div>\n",
       "<style scoped>\n",
       "    .dataframe tbody tr th:only-of-type {\n",
       "        vertical-align: middle;\n",
       "    }\n",
       "\n",
       "    .dataframe tbody tr th {\n",
       "        vertical-align: top;\n",
       "    }\n",
       "\n",
       "    .dataframe thead th {\n",
       "        text-align: right;\n",
       "    }\n",
       "</style>\n",
       "<table border=\"1\" class=\"dataframe\">\n",
       "  <thead>\n",
       "    <tr style=\"text-align: right;\">\n",
       "      <th></th>\n",
       "      <th>CHILDNM</th>\n",
       "      <th>EDUC1</th>\n",
       "    </tr>\n",
       "  </thead>\n",
       "  <tbody>\n",
       "    <tr>\n",
       "      <th>0</th>\n",
       "      <td>3</td>\n",
       "      <td>4</td>\n",
       "    </tr>\n",
       "    <tr>\n",
       "      <th>1</th>\n",
       "      <td>3</td>\n",
       "      <td>3</td>\n",
       "    </tr>\n",
       "    <tr>\n",
       "      <th>2</th>\n",
       "      <td>3</td>\n",
       "      <td>3</td>\n",
       "    </tr>\n",
       "    <tr>\n",
       "      <th>3</th>\n",
       "      <td>1</td>\n",
       "      <td>4</td>\n",
       "    </tr>\n",
       "    <tr>\n",
       "      <th>4</th>\n",
       "      <td>2</td>\n",
       "      <td>1</td>\n",
       "    </tr>\n",
       "    <tr>\n",
       "      <th>...</th>\n",
       "      <td>...</td>\n",
       "      <td>...</td>\n",
       "    </tr>\n",
       "    <tr>\n",
       "      <th>28460</th>\n",
       "      <td>1</td>\n",
       "      <td>3</td>\n",
       "    </tr>\n",
       "    <tr>\n",
       "      <th>28461</th>\n",
       "      <td>2</td>\n",
       "      <td>2</td>\n",
       "    </tr>\n",
       "    <tr>\n",
       "      <th>28462</th>\n",
       "      <td>1</td>\n",
       "      <td>3</td>\n",
       "    </tr>\n",
       "    <tr>\n",
       "      <th>28463</th>\n",
       "      <td>1</td>\n",
       "      <td>2</td>\n",
       "    </tr>\n",
       "    <tr>\n",
       "      <th>28464</th>\n",
       "      <td>1</td>\n",
       "      <td>4</td>\n",
       "    </tr>\n",
       "  </tbody>\n",
       "</table>\n",
       "<p>28465 rows × 2 columns</p>\n",
       "</div>"
      ],
      "text/plain": [
       "       CHILDNM  EDUC1\n",
       "0            3      4\n",
       "1            3      3\n",
       "2            3      3\n",
       "3            1      4\n",
       "4            2      1\n",
       "...        ...    ...\n",
       "28460        1      3\n",
       "28461        2      2\n",
       "28462        1      3\n",
       "28463        1      2\n",
       "28464        1      4\n",
       "\n",
       "[28465 rows x 2 columns]"
      ]
     },
     "execution_count": 54,
     "metadata": {},
     "output_type": "execute_result"
    }
   ],
   "source": [
    "import pandas as pd\n",
    "dfc = pd.read_csv('assets/NISPUF17.csv')[['CHILDNM','EDUC1']]\n",
    "dfc.dropna()"
   ]
  },
  {
   "cell_type": "code",
   "execution_count": 57,
   "metadata": {},
   "outputs": [],
   "source": [
    "import pandas as pd\n",
    "import numpy as np\n",
    "df=pd.DataFrame({\"had_chickenpox_column\":np.random.randint(1,3,size=(100)),\n",
    "                   \"num_chickenpox_vaccine_column\":np.random.randint(0,6,size=(100))})"
   ]
  },
  {
   "cell_type": "code",
   "execution_count": 59,
   "metadata": {},
   "outputs": [
    {
     "data": {
      "text/plain": [
       "0     False\n",
       "1     False\n",
       "2     False\n",
       "3     False\n",
       "4     False\n",
       "      ...  \n",
       "95    False\n",
       "96    False\n",
       "97    False\n",
       "98    False\n",
       "99    False\n",
       "Length: 100, dtype: bool"
      ]
     },
     "execution_count": 59,
     "metadata": {},
     "output_type": "execute_result"
    }
   ],
   "source": []
  },
  {
   "cell_type": "code",
   "execution_count": 69,
   "metadata": {},
   "outputs": [
    {
     "data": {
      "text/plain": [
       "(1.8799187420058687, 1.5963945918878317)"
      ]
     },
     "execution_count": 69,
     "metadata": {},
     "output_type": "execute_result"
    }
   ],
   "source": [
    "#succeed\n",
    "def average_influenza_doses():\n",
    "    import pandas as pd\n",
    "    dfc = pd.read_csv('assets/NISPUF17.csv')[['CBF_01','P_NUMFLU']]\n",
    "    #print(dfc['CBF_01'].unique()) #yes no \n",
    "    bmy = dfc[dfc['CBF_01'] == 1].dropna()\n",
    "    bmn = dfc[dfc['CBF_01'] == 2].dropna()\n",
    "    y = sum( bmy['P_NUMFLU'])/bmy.shape[0]\n",
    "    n = sum( bmn['P_NUMFLU'])/bmn.shape[0]\n",
    "    return (y,n)\n",
    "average_influenza_doses()"
   ]
  },
  {
   "cell_type": "code",
   "execution_count": 72,
   "metadata": {},
   "outputs": [
    {
     "data": {
      "text/plain": [
       "{'male': 0.004837791690381332, 'female': 0.0038959129667744783}"
      ]
     },
     "execution_count": 72,
     "metadata": {},
     "output_type": "execute_result"
    }
   ],
   "source": [
    "def chickenpox_by_sex():\n",
    "    import pandas as pd\n",
    "    dfc = pd.read_csv('assets/NISPUF17.csv')[['CHILDNM','SEX','HAD_CPOX','P_NUMVRC']]\n",
    "    \n",
    "    my = dfc[(dfc['SEX'] ==1) & (dfc['HAD_CPOX']==1) &(dfc['P_NUMVRC']>0.0)]\n",
    "    mn = dfc[(dfc['SEX'] ==1) & (dfc['HAD_CPOX']==2) &(dfc['P_NUMVRC']>0.0)]\n",
    "    \n",
    "    fy = dfc[(dfc['SEX'] ==2) & (dfc['HAD_CPOX']==1) &(dfc['P_NUMVRC']>0.0)]\n",
    "    fn = dfc[(dfc['SEX'] ==2) & (dfc['HAD_CPOX']==2) &(dfc['P_NUMVRC']>0.0)]\n",
    "    d ={\n",
    "        \"male\":sum(my['HAD_CPOX'])/sum(mn['HAD_CPOX']),\n",
    "        \"female\":sum(fy['HAD_CPOX'])/sum(fn['HAD_CPOX']),\n",
    "    }\n",
    "    return d\n",
    "chickenpox_by_sex()"
   ]
  },
  {
   "cell_type": "code",
   "execution_count": 3,
   "metadata": {},
   "outputs": [
    {
     "data": {
      "text/plain": [
       "0.0077918259335489565"
      ]
     },
     "execution_count": 3,
     "metadata": {},
     "output_type": "execute_result"
    }
   ],
   "source": [
    "import pandas as pd\n",
    "dfc = pd.read_csv('assets/NISPUF17.csv')[['CHILDNM','SEX','HAD_CPOX','P_NUMVRC']]\n",
    "#dfc[dfc.isnull().any(axis=1)] #so there are some na\n",
    "dfc.dropna(inplace = True)\n",
    "male = dfc[dfc['SEX'] ==1] \n",
    "male_pox = male[male['HAD_CPOX'] == 1] #male who have pox\n",
    "male_npox =male[male['HAD_CPOX'] == 2] #male who do not have pox\n",
    "male_pox_vacinated = male_pox[male_pox['P_NUMVRC'] > 0.0] #male who have pox but vacinated\n",
    "male_pox_nvacinated = male_npox[male_npox['P_NUMVRC'] > 0.0] #male who had not pox and vacinated\n",
    "\n",
    "female = dfc[dfc['SEX'] ==2] #female\n",
    "female_pox = female[female['HAD_CPOX'] == 1] #female who had pox\n",
    "female_npox = female[female['HAD_CPOX'] == 2] #female who did not have pox\n",
    "female_pox_vacinated = female_pox[female_pox['P_NUMVRC'] >0.0] #female who had pox and vacinated\n",
    "female_pox_nvacinated = female_npox[female_npox['P_NUMVRC'] > 0.0] #female who had not pox and vacinated\n",
    "\n",
    "female_pox_vacinated.shape[0]/female_pox_nvacinated.shape[0]"
   ]
  },
  {
   "cell_type": "code",
   "execution_count": 4,
   "metadata": {},
   "outputs": [],
   "source": [
    "#succeed\n",
    "def chickenpox_by_sex():\n",
    "    import pandas as pd\n",
    "    dfc = pd.read_csv('assets/NISPUF17.csv')[['CHILDNM','SEX','HAD_CPOX','P_NUMVRC']]\n",
    "    #dfc[dfc.isnull().any(axis=1)] #so there are some na\n",
    "    dfc.dropna(inplace = True)\n",
    "    male = dfc[dfc['SEX'] ==1] \n",
    "    male_pox = male[male['HAD_CPOX'] == 1] #male who have pox\n",
    "    male_npox =male[male['HAD_CPOX'] == 2] #male who do not have pox\n",
    "    male_pox_vacinated = male_pox[male_pox['P_NUMVRC'] > 0.0] #male who have pox but vacinated\n",
    "    male_pox_nvacinated = male_npox[male_npox['P_NUMVRC'] > 0.0] #male who had not pox and vacinated\n",
    "\n",
    "    female = dfc[dfc['SEX'] ==2] #female\n",
    "    female_pox = female[female['HAD_CPOX'] == 1] #female who had pox\n",
    "    female_npox = female[female['HAD_CPOX'] == 2] #female who did not have pox\n",
    "    female_pox_vacinated = female_pox[female_pox['P_NUMVRC'] >0.0] #female who had pox and vacinated\n",
    "    female_pox_nvacinated = female_npox[female_npox['P_NUMVRC'] > 0.0] #female who had not pox and vacinated\n",
    "    d = {\n",
    "        'male':male_pox_vacinated.shape[0]/male_pox_nvacinated.shape[0],\n",
    "        'female':female_pox_vacinated.shape[0]/female_pox_nvacinated.shape[0],\n",
    "    }\n",
    "    return d"
   ]
  },
  {
   "cell_type": "code",
   "execution_count": 5,
   "metadata": {},
   "outputs": [
    {
     "data": {
      "text/plain": [
       "{'male': 0.009675583380762664, 'female': 0.0077918259335489565}"
      ]
     },
     "execution_count": 5,
     "metadata": {},
     "output_type": "execute_result"
    }
   ],
   "source": [
    "chickenpox_by_sex()"
   ]
  },
  {
   "cell_type": "code",
   "execution_count": null,
   "metadata": {},
   "outputs": [],
   "source": []
  }
 ],
 "metadata": {
  "kernelspec": {
   "display_name": "Python 3",
   "language": "python",
   "name": "python3"
  },
  "language_info": {
   "codemirror_mode": {
    "name": "ipython",
    "version": 3
   },
   "file_extension": ".py",
   "mimetype": "text/x-python",
   "name": "python",
   "nbconvert_exporter": "python",
   "pygments_lexer": "ipython3",
   "version": "3.8.3"
  }
 },
 "nbformat": 4,
 "nbformat_minor": 4
}
